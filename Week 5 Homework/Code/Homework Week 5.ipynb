{
 "cells": [
  {
   "cell_type": "markdown",
   "metadata": {},
   "source": []
  },
  {
   "cell_type": "code",
   "execution_count": 1,
   "metadata": {},
   "outputs": [],
   "source": [
    "import pyspark"
   ]
  },
  {
   "cell_type": "code",
   "execution_count": 2,
   "metadata": {},
   "outputs": [
    {
     "data": {
      "text/plain": [
       "'3.5.1'"
      ]
     },
     "execution_count": 2,
     "metadata": {},
     "output_type": "execute_result"
    }
   ],
   "source": [
    "pyspark.__version__"
   ]
  },
  {
   "cell_type": "code",
   "execution_count": 3,
   "metadata": {},
   "outputs": [],
   "source": [
    "from pyspark.sql import SparkSession\n",
    "spark = SparkSession.builder \\\n",
    "    .master(\"local[*]\") \\\n",
    "    .appName('test') \\\n",
    "    .getOrCreate()"
   ]
  },
  {
   "cell_type": "code",
   "execution_count": 4,
   "metadata": {},
   "outputs": [],
   "source": [
    "df = spark.read \\\n",
    "    .option(\"header\", \"true\") \\\n",
    "    .csv('/C:/Users/wongs/Downloads/fhv_tripdata_2019-10.csv/fhv_tripdata_2019-10.csv')"
   ]
  },
  {
   "cell_type": "code",
   "execution_count": 5,
   "metadata": {},
   "outputs": [
    {
     "data": {
      "text/plain": [
       "StructType([StructField('dispatching_base_num', StringType(), True), StructField('pickup_datetime', StringType(), True), StructField('dropOff_datetime', StringType(), True), StructField('PUlocationID', StringType(), True), StructField('DOlocationID', StringType(), True), StructField('SR_Flag', StringType(), True), StructField('Affiliated_base_number', StringType(), True)])"
      ]
     },
     "execution_count": 5,
     "metadata": {},
     "output_type": "execute_result"
    }
   ],
   "source": [
    "df.schema"
   ]
  },
  {
   "cell_type": "code",
   "execution_count": 6,
   "metadata": {},
   "outputs": [],
   "source": [
    "from pyspark.sql import types"
   ]
  },
  {
   "cell_type": "code",
   "execution_count": 7,
   "metadata": {},
   "outputs": [],
   "source": [
    "schema = types.StructType(\n",
    "    [\n",
    "        types.StructField('dispatching_base_num', types.StringType(), True),\n",
    "        types.StructField('pickup_datetime', types.TimestampType(), True),\n",
    "        types.StructField('dropoff_datetime', types.TimestampType(), True),\n",
    "        types.StructField('PUlocationID', types.IntegerType(), True),\n",
    "        types.StructField('DOlocationID', types.IntegerType(), True),\n",
    "        types.StructField('SR_Flag', types.StringType(), True),\n",
    "        types.StructField('Affiliated_base_number', types.StringType(), True)\n",
    "    ]\n",
    ")\n",
    "\n",
    "df = spark.read \\\n",
    "    .option(\"header\", \"true\") \\\n",
    "    .schema(schema) \\\n",
    "    .csv('/C:/Users/wongs/Downloads/fhv_tripdata_2019-10.csv/fhv_tripdata_2019-10.csv')"
   ]
  },
  {
   "cell_type": "code",
   "execution_count": null,
   "metadata": {},
   "outputs": [],
   "source": []
  },
  {
   "cell_type": "code",
   "execution_count": 8,
   "metadata": {},
   "outputs": [
    {
     "data": {
      "text/plain": [
       "[Row(dispatching_base_num='B00009', pickup_datetime=datetime.datetime(2019, 10, 1, 0, 23), dropoff_datetime=datetime.datetime(2019, 10, 1, 0, 35), PUlocationID=264, DOlocationID=264, SR_Flag=None, Affiliated_base_number='B00009'),\n",
       " Row(dispatching_base_num='B00013', pickup_datetime=datetime.datetime(2019, 10, 1, 0, 11, 29), dropoff_datetime=datetime.datetime(2019, 10, 1, 0, 13, 22), PUlocationID=264, DOlocationID=264, SR_Flag=None, Affiliated_base_number='B00013'),\n",
       " Row(dispatching_base_num='B00014', pickup_datetime=datetime.datetime(2019, 10, 1, 0, 11, 43), dropoff_datetime=datetime.datetime(2019, 10, 1, 0, 37, 20), PUlocationID=264, DOlocationID=264, SR_Flag=None, Affiliated_base_number='B00014'),\n",
       " Row(dispatching_base_num='B00014', pickup_datetime=datetime.datetime(2019, 10, 1, 0, 56, 29), dropoff_datetime=datetime.datetime(2019, 10, 1, 0, 57, 47), PUlocationID=264, DOlocationID=264, SR_Flag=None, Affiliated_base_number='B00014'),\n",
       " Row(dispatching_base_num='B00014', pickup_datetime=datetime.datetime(2019, 10, 1, 0, 23, 9), dropoff_datetime=datetime.datetime(2019, 10, 1, 0, 28, 27), PUlocationID=264, DOlocationID=264, SR_Flag=None, Affiliated_base_number='B00014')]"
      ]
     },
     "execution_count": 8,
     "metadata": {},
     "output_type": "execute_result"
    }
   ],
   "source": [
    "df.head(5)"
   ]
  },
  {
   "cell_type": "code",
   "execution_count": 9,
   "metadata": {},
   "outputs": [],
   "source": [
    "ddf = df.repartition(6)\n"
   ]
  },
  {
   "cell_type": "code",
   "execution_count": 72,
   "metadata": {},
   "outputs": [],
   "source": [
    "# ddf.write.parquet('fhv/19/10', mode='overwrite')\n"
   ]
  },
  {
   "cell_type": "code",
   "execution_count": 16,
   "metadata": {},
   "outputs": [],
   "source": [
    "import datetime\n",
    "new_df = df.select('pickup_datetime', 'dropoff_datetime', 'PUlocationID', 'DOlocationID').filter(df.pickup_datetime == datetime.datetime(2019, 10, 15, 0, 0))"
   ]
  },
  {
   "cell_type": "code",
   "execution_count": 25,
   "metadata": {},
   "outputs": [
    {
     "data": {
      "text/plain": [
       "62610"
      ]
     },
     "execution_count": 25,
     "metadata": {},
     "output_type": "execute_result"
    }
   ],
   "source": [
    "from pyspark.sql import functions as F\n",
    "df \\\n",
    "    .withColumn('pickup_date', F.to_date(df.pickup_datetime)) \\\n",
    "    .withColumn('dropoff_date', F.to_date(df.dropoff_datetime)) \\\n",
    "    .select('pickup_date', 'dropoff_date', 'PUlocationID', 'DOlocationID') \\\n",
    "    .filter(F.to_date(df.pickup_datetime) == \"2019-10-15\")\\\n",
    "    .count()"
   ]
  },
  {
   "cell_type": "code",
   "execution_count": 69,
   "metadata": {},
   "outputs": [
    {
     "name": "stdout",
     "output_type": "stream",
     "text": [
      "+--------------------+-------------------+-------------------+------------+------------+-------+----------------------+------------------+\n",
      "|dispatching_base_num|    pickup_datetime|   dropoff_datetime|PUlocationID|DOlocationID|SR_Flag|Affiliated_base_number|  duration_seconds|\n",
      "+--------------------+-------------------+-------------------+------------+------------+-------+----------------------+------------------+\n",
      "|              B02832|2019-10-28 09:00:00|2091-10-28 09:30:00|         264|         264|   NULL|                B02832|          631152.5|\n",
      "|              B02832|2019-10-11 18:00:00|2091-10-11 18:30:00|         264|         264|   NULL|                B02832|          631152.5|\n",
      "|              B02416|2019-10-31 23:46:33|2029-11-01 00:13:00|        NULL|        NULL|   NULL|                B02416| 87672.44083333333|\n",
      "|     B00746         |2019-10-01 21:43:42|2027-10-01 21:45:23|         159|         264|   NULL|       B00746         | 70128.02805555555|\n",
      "|              B02921|2019-10-17 14:00:00|2020-10-18 00:00:00|        NULL|        NULL|   NULL|                B03037|            8794.0|\n",
      "|              B03110|2019-10-26 21:26:00|2020-10-26 21:36:00|         264|         264|   NULL|                B03110| 8784.166666666666|\n",
      "|              B03080|2019-10-30 12:30:04|2019-12-30 13:02:08|         264|          50|   NULL|                B02883|1464.5344444444445|\n",
      "|     B03084         |2019-10-25 07:04:57|2019-12-08 07:54:33|         168|         235|   NULL|                B02765|1056.8266666666666|\n",
      "|     B03084         |2019-10-25 07:04:57|2019-12-08 07:21:11|         168|         235|   NULL|                B02765|1056.2705555555556|\n",
      "|              B01452|2019-10-01 13:47:17|2019-11-03 15:20:28|          44|         214|   NULL|                B01452| 793.5530555555556|\n",
      "|              B01452|2019-10-01 07:21:12|2019-11-03 08:44:21|           5|           6|   NULL|                B01452| 793.3858333333334|\n",
      "|              B01452|2019-10-01 13:41:00|2019-11-03 14:58:51|         206|         172|   NULL|                B01452|          793.2975|\n",
      "|              B01452|2019-10-01 18:43:20|2019-11-03 19:43:13|          23|           5|   NULL|                B01452| 792.9980555555555|\n",
      "|              B01452|2019-10-01 18:43:46|2019-11-03 19:43:04|         251|          44|   NULL|                B01452| 792.9883333333333|\n",
      "|              B01452|2019-10-01 07:07:09|2019-11-03 07:58:46|         204|          23|   NULL|                B01452| 792.8602777777778|\n",
      "|              B01452|2019-10-01 14:49:28|2019-11-03 15:38:07|         214|         156|   NULL|                B01452| 792.8108333333333|\n",
      "|              B01452|2019-10-01 05:36:30|2019-11-03 06:23:36|         214|          84|   NULL|                B01452|           792.785|\n",
      "|              B00972|2019-10-01 15:02:55|2019-11-03 15:49:05|         204|           1|   NULL|                B00972| 792.7694444444444|\n",
      "|              B00972|2019-10-01 06:08:01|2019-11-03 06:53:15|         156|         204|   NULL|                B00972| 792.7538888888889|\n",
      "|              B01452|2019-10-01 06:41:17|2019-11-03 07:26:04|          44|          23|   NULL|                B01452| 792.7463888888889|\n",
      "+--------------------+-------------------+-------------------+------------+------------+-------+----------------------+------------------+\n",
      "only showing top 20 rows\n",
      "\n"
     ]
    }
   ],
   "source": [
    "from pyspark.sql.functions import col, asc,desc\n",
    "df \\\n",
    "    .withColumn('duration_seconds', ((df.dropoff_datetime.cast('long')-df.pickup_datetime.cast('long'))/3600)) \\\n",
    "    .orderBy(col('duration_seconds').desc()) \\\n",
    "    .show()\n"
   ]
  },
  {
   "cell_type": "code",
   "execution_count": 34,
   "metadata": {},
   "outputs": [
    {
     "name": "stdout",
     "output_type": "stream",
     "text": [
      "+-----------+-------------+\n",
      "|pickup_date|max(duration)|\n",
      "+-----------+-------------+\n",
      "| 2019-10-11|     631152.5|\n",
      "+-----------+-------------+\n",
      "\n"
     ]
    }
   ],
   "source": [
    "df \\\n",
    "    .withColumn('duration', ((df.dropoff_datetime.cast('long') - df.pickup_datetime.cast('long'))/3600)) \\\n",
    "    .withColumn('pickup_date', F.to_date(df.pickup_datetime)) \\\n",
    "    .groupBy('pickup_date') \\\n",
    "        .max('duration') \\\n",
    "    .orderBy('max(duration)', ascending=False) \\\n",
    "    .limit(1) \\\n",
    "    .show()"
   ]
  },
  {
   "cell_type": "code",
   "execution_count": 54,
   "metadata": {},
   "outputs": [
    {
     "data": {
      "text/plain": [
       "['LocationID', 'Borough', 'Zone', 'service_zone']"
      ]
     },
     "execution_count": 54,
     "metadata": {},
     "output_type": "execute_result"
    }
   ],
   "source": [
    "df_zones = spark.read\\\n",
    "    .option(\"header\", \"true\") \\\n",
    "        .csv('C:/Users/wongs/Downloads/taxi_zone_lookup.csv')\n",
    "\n",
    "df_zones.columns\n"
   ]
  },
  {
   "cell_type": "code",
   "execution_count": 57,
   "metadata": {},
   "outputs": [],
   "source": [
    "zpu = df_zones \\\n",
    "    .withColumnRenamed('Zone', 'PUzone') \\\n",
    "    .withColumnRenamed('LocationID', 'zPUlocationID') \\\n",
    "    .withColumnRenamed('Borough', 'PUBorough') \\\n",
    "    .drop('service_zone')\n",
    "zdo = df_zones \\\n",
    "    .withColumnRenamed('Zone', 'DOzone') \\\n",
    "    .withColumnRenamed('LocationID', 'zDOlocationID') \\\n",
    "    .withColumnRenamed('Borough', 'DOBorough') \\\n",
    "    .drop('service_zone')\n",
    "\n",
    "df_join_temp = df.join(zpu, df.PUlocationID == zpu.zPUlocationID)\n",
    "df_join = df_join_temp.join(zdo, df_join_temp.DOlocationID == zdo.zDOlocationID)"
   ]
  },
  {
   "cell_type": "code",
   "execution_count": 59,
   "metadata": {},
   "outputs": [],
   "source": [
    "dd = df_join.drop('PULocationID', 'DOLocationID', 'zPULocationID', 'zDOLocationID')"
   ]
  },
  {
   "cell_type": "code",
   "execution_count": 62,
   "metadata": {},
   "outputs": [],
   "source": [
    "dd.createOrReplaceTempView ('join_table')"
   ]
  },
  {
   "cell_type": "code",
   "execution_count": 65,
   "metadata": {},
   "outputs": [
    {
     "name": "stdout",
     "output_type": "stream",
     "text": [
      "+--------------------+-------------------+-------------------+-------+----------------------+---------+---------------+---------+--------------------+\n",
      "|dispatching_base_num|    pickup_datetime|   dropoff_datetime|SR_Flag|Affiliated_base_number|PUBorough|         PUzone|DOBorough|              DOzone|\n",
      "+--------------------+-------------------+-------------------+-------+----------------------+---------+---------------+---------+--------------------+\n",
      "|              B00009|2019-10-01 00:23:00|2019-10-01 00:35:00|   NULL|                B00009|  Unknown|             NV|  Unknown|                  NV|\n",
      "|              B00013|2019-10-01 00:11:29|2019-10-01 00:13:22|   NULL|                B00013|  Unknown|             NV|  Unknown|                  NV|\n",
      "|              B00014|2019-10-01 00:11:43|2019-10-01 00:37:20|   NULL|                B00014|  Unknown|             NV|  Unknown|                  NV|\n",
      "|              B00014|2019-10-01 00:56:29|2019-10-01 00:57:47|   NULL|                B00014|  Unknown|             NV|  Unknown|                  NV|\n",
      "|              B00014|2019-10-01 00:23:09|2019-10-01 00:28:27|   NULL|                B00014|  Unknown|             NV|  Unknown|                  NV|\n",
      "|     B00021         |2019-10-01 00:00:48|2019-10-01 00:07:12|   NULL|       B00021         |   Queens|Jackson Heights|   Queens|     Jackson Heights|\n",
      "|     B00021         |2019-10-01 00:47:23|2019-10-01 00:53:25|   NULL|       B00021         |   Queens|         Corona|   Queens|              Corona|\n",
      "|     B00021         |2019-10-01 00:10:06|2019-10-01 00:19:50|   NULL|       B00021         |   Queens|   North Corona|   Queens|        North Corona|\n",
      "|     B00021         |2019-10-01 00:51:37|2019-10-01 01:06:14|   NULL|       B00021         |   Queens|      Sunnyside|   Queens|           Sunnyside|\n",
      "|     B00021         |2019-10-01 00:28:23|2019-10-01 00:34:33|   NULL|       B00021         |   Queens|         Corona|   Queens|              Corona|\n",
      "|     B00021         |2019-10-01 00:31:17|2019-10-01 00:51:52|   NULL|       B00021         |   Queens|       Elmhurst|   Queens|            Elmhurst|\n",
      "|              B00037|2019-10-01 00:07:41|2019-10-01 00:15:23|   NULL|                B00037|  Unknown|             NV| Brooklyn|East Flatbush/Far...|\n",
      "|              B00037|2019-10-01 00:13:38|2019-10-01 00:25:51|   NULL|                B00037|  Unknown|             NV| Brooklyn|            Canarsie|\n",
      "|              B00037|2019-10-01 00:42:40|2019-10-01 00:53:47|   NULL|                B00037|  Unknown|             NV| Brooklyn|Prospect-Lefferts...|\n",
      "|              B00037|2019-10-01 00:58:46|2019-10-01 01:10:11|   NULL|                B00037|  Unknown|             NV| Brooklyn|           Flatlands|\n",
      "|              B00037|2019-10-01 00:09:49|2019-10-01 00:14:37|   NULL|                B00037|  Unknown|             NV| Brooklyn|East Flatbush/Far...|\n",
      "|              B00037|2019-10-01 00:22:35|2019-10-01 00:36:53|   NULL|                B00037|  Unknown|             NV| Brooklyn|         Brownsville|\n",
      "|              B00037|2019-10-01 00:54:27|2019-10-01 01:03:37|   NULL|                B00037|  Unknown|             NV| Brooklyn| Crown Heights North|\n",
      "|              B00037|2019-10-01 00:08:12|2019-10-01 00:28:47|   NULL|                B00037|  Unknown|             NV|   Queens|           Ridgewood|\n",
      "|              B00053|2019-10-01 00:05:24|2019-10-01 00:53:03|   NULL|                  #N/A|  Unknown|             NV|  Unknown|                  NV|\n",
      "+--------------------+-------------------+-------------------+-------+----------------------+---------+---------------+---------+--------------------+\n",
      "only showing top 20 rows\n",
      "\n"
     ]
    }
   ],
   "source": [
    "dd.show()"
   ]
  },
  {
   "cell_type": "code",
   "execution_count": 66,
   "metadata": {},
   "outputs": [
    {
     "name": "stdout",
     "output_type": "stream",
     "text": [
      "+-----------+--------+\n",
      "|     PUzone|count(1)|\n",
      "+-----------+--------+\n",
      "|Jamaica Bay|       1|\n",
      "+-----------+--------+\n",
      "\n"
     ]
    }
   ],
   "source": [
    "spark.sql(\"\"\"\n",
    "SELECT\n",
    "    PUzone,\n",
    "    COUNT(1)\n",
    "FROM\n",
    "    join_table\n",
    "GROUP BY\n",
    "    1\n",
    "ORDER BY\n",
    "    2 ASC\n",
    "LIMIT\n",
    "    1\n",
    ";\n",
    "\"\"\").show()"
   ]
  },
  {
   "cell_type": "code",
   "execution_count": null,
   "metadata": {},
   "outputs": [],
   "source": []
  },
  {
   "cell_type": "code",
   "execution_count": null,
   "metadata": {},
   "outputs": [],
   "source": []
  }
 ],
 "metadata": {
  "kernelspec": {
   "display_name": "Python 3",
   "language": "python",
   "name": "python3"
  },
  "language_info": {
   "codemirror_mode": {
    "name": "ipython",
    "version": 3
   },
   "file_extension": ".py",
   "mimetype": "text/x-python",
   "name": "python",
   "nbconvert_exporter": "python",
   "pygments_lexer": "ipython3",
   "version": "3.12.1"
  }
 },
 "nbformat": 4,
 "nbformat_minor": 2
}
